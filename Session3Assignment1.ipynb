{
 "cells": [
  {
   "cell_type": "code",
   "execution_count": 3,
   "metadata": {},
   "outputs": [
    {
     "name": "stdout",
     "output_type": "stream",
     "text": [
      "Sum of total values in the list: 61\n"
     ]
    }
   ],
   "source": [
    "#1.1 Write a Python Program to implement your own myreduce() function which works exactly like Python's built-in function reduce()\n",
    "\n",
    "#define a function like reduce() which take first two values from list and do operation with next\n",
    "def myreduce(list1):\n",
    "    j=2\n",
    "    i = len(list1)\n",
    "    temp = list1[0]+list1[1]\n",
    "    while(j < i):\n",
    "        temp = temp +list1[j]\n",
    "        j +=1\n",
    "    print(\"Sum of total values in the list: %d\" %temp)\n",
    "      \n",
    "    \n",
    "#calling function with passing values from list\n",
    "\n",
    "my_list=[20,25,16]\n",
    "myreduce(my_list)"
   ]
  },
  {
   "cell_type": "code",
   "execution_count": 6,
   "metadata": {},
   "outputs": [
    {
     "name": "stdout",
     "output_type": "stream",
     "text": [
      "[1400, 340, 230, 28000, 3500, 700]\n"
     ]
    }
   ],
   "source": [
    "#1.2 Write a Python program to implement your own myfilter() function which works exactly like Python's built-in function filter()\n",
    "\n",
    "#define a function which will filter out the numbers greater than 100.\n",
    "def myfilter(num):\n",
    "    even_num =[]\n",
    "    for i in num:\n",
    "        if i>100:\n",
    "            even_num.append(i)\n",
    "    print(even_num)\n",
    "    \n",
    "#call the function with passing values from a list        \n",
    "l=[1400, 33, 340,1, 230, 28000, 3500, 76, 700]\n",
    "myfilter(l)\n"
   ]
  },
  {
   "cell_type": "code",
   "execution_count": 8,
   "metadata": {},
   "outputs": [
    {
     "name": "stdout",
     "output_type": "stream",
     "text": [
      "List1 : ['A', 'C', 'A', 'D', 'G', 'I', 'L', 'D']\n",
      "List2 :['x', 'xx', 'xxx', 'xxxx', 'y', 'yy', 'yyy', 'yyyy', 'z', 'zz', 'zzz', 'zzzz']\n",
      "List3 : ['x', 'y', 'z', 'xx', 'yy', 'zz', 'xxx', 'yyy', 'zzz', 'xxxx', 'yyyy', 'zzzz']\n",
      "List5 :[[2], [3], [4], [3], [4], [5], [4], [5], [6]]\n",
      "List6 :[[2, 3, 4, 5], [3, 4, 5, 6], [4, 5, 6, 7], [5, 6, 7, 8]]\n",
      "List7 : [(1, 1), (2, 1), (3, 1), (1, 2), (2, 2), (3, 2), (1, 3), (2, 3), (3, 3)]\n"
     ]
    }
   ],
   "source": [
    "## 2. Implement List comprehensions to produce the following lists.\n",
    "#Write List comprehensions to produce the following Lists\n",
    "#------------------------------------------------------------------------\n",
    "#['A', 'C', 'A', 'D', 'G', 'I', ’L’, ‘ D’]\n",
    "l= 'ACADGILD'\n",
    "alphabet_list = [ alphabet for alphabet in l ] \n",
    "print (\"List1 : \" + str(alphabet_list)) \n",
    "\n",
    "#------------------------------------------------------------------------\n",
    "\n",
    "#['x', 'xx', 'xxx', 'xxxx', 'y', 'yy', 'yyy', 'yyyy', 'z', 'zz', 'zzz', 'zzzz']\n",
    "l2 = ['x','y','z'] \n",
    "result = [ item*num for item in l2 for num in range(1,5)  ] \n",
    "print(\"List2 :\" +   str(result)) \n",
    "\n",
    "#------------------------------------------------------------------------\n",
    "\n",
    "#['x', 'y', 'z', 'xx', 'yy', 'zz', 'xxx', 'yyy', 'zzz', 'xxxx', 'yyyy', 'zzzz']\n",
    "\n",
    "l3 = ['x','y','z'] \n",
    "result1 = [ item*num for num in range(1,5) for item in l3  ] \n",
    "print(\"List3 : \" +   str(result1)) \n",
    "\n",
    "\n",
    "#------------------------------------------------------------------------\n",
    "#[[2], [3], [4], [3], [4], [5], [4], [5], [6]]\n",
    "\n",
    "l4 = [2,3,4] \n",
    "result = [ [item+num] for item in l4 for num in range(0,3)] \n",
    "print(\"List5 :\" +  str(result)) \n",
    "\n",
    "#------------------------------------------------------------------------\n",
    "#[[2, 3, 4, 5], [3, 4, 5, 6], [4, 5, 6, 7], [5, 6, 7, 8]]\n",
    "l5 = [2,3,4,5] \n",
    "result = [ [item+num for item in l5] for num in range(0,4)  ] \n",
    "print(\"List6 :\" +  str(result)) \n",
    "\n",
    "\n",
    "#------------------------------------------------------------------------\n",
    "#[(1, 1), (2, 1), (3, 1), (1, 2), (2, 2), (3, 2), (1, 3), (2, 3), (3, 3)]\n",
    "\n",
    "input_list=[1,2,3] \n",
    "result = [ (b,a) for a in input_list for b in input_list]\n",
    "print(\"List7 : \" +  str(result)) \n"
   ]
  },
  {
   "cell_type": "code",
   "execution_count": 9,
   "metadata": {},
   "outputs": [
    {
     "name": "stdout",
     "output_type": "stream",
     "text": [
      "Longest word in the list : Uttar Pradesh\n"
     ]
    }
   ],
   "source": [
    "#3. Implement a function longestWord() that takes a list of words and returns the longest one.\n",
    "\n",
    "from functools import reduce \n",
    "#initialise the list\n",
    "words_list= [\"Rajasthan\",\"Uttar Pradesh\",\"Karnataka\",\"West Bengal\"]\n",
    "#define a function\n",
    "def longestWord(list_words):\n",
    "    return reduce( (lambda x,y:y if len(y) > len(x) else x), list_words ) \n",
    "\n",
    "print ('Longest word in the list : %s'  %longestWord(words_list) ) \n"
   ]
  },
  {
   "cell_type": "code",
   "execution_count": null,
   "metadata": {},
   "outputs": [],
   "source": []
  }
 ],
 "metadata": {
  "kernelspec": {
   "display_name": "Python 3",
   "language": "python",
   "name": "python3"
  },
  "language_info": {
   "codemirror_mode": {
    "name": "ipython",
    "version": 3
   },
   "file_extension": ".py",
   "mimetype": "text/x-python",
   "name": "python",
   "nbconvert_exporter": "python",
   "pygments_lexer": "ipython3",
   "version": "3.7.1"
  }
 },
 "nbformat": 4,
 "nbformat_minor": 2
}
